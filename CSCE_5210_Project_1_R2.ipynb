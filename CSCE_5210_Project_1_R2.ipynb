{
  "nbformat": 4,
  "nbformat_minor": 0,
  "metadata": {
    "colab": {
      "provenance": [],
      "authorship_tag": "ABX9TyNWTpvX7A2JRZSOQxaU/nlM",
      "include_colab_link": true
    },
    "kernelspec": {
      "name": "python3",
      "display_name": "Python 3"
    },
    "language_info": {
      "name": "python"
    }
  },
  "cells": [
    {
      "cell_type": "markdown",
      "metadata": {
        "id": "view-in-github",
        "colab_type": "text"
      },
      "source": [
        "<a href=\"https://colab.research.google.com/github/ameyer12/CSCE5210-Project1/blob/main/CSCE_5210_Project_1_R2.ipynb\" target=\"_parent\"><img src=\"https://colab.research.google.com/assets/colab-badge.svg\" alt=\"Open In Colab\"/></a>"
      ]
    },
    {
      "cell_type": "code",
      "execution_count": null,
      "metadata": {
        "id": "BvTo3u0V5mxL"
      },
      "outputs": [],
      "source": [
        "import random\n",
        "from random import choice\n",
        "import networkx as nx\n",
        "import matplotlib.pyplot as plt"
      ]
    },
    {
      "cell_type": "code",
      "source": [
        "seed=1000           # seed the graph for reproducibility, you should be doing this\n",
        "G= nx.gnp_random_graph (10, .3, seed=seed )       # here we create a random binomial graph with 10 nodes and an average (expected) connectivity of 10*.3= 3.\n",
        "print ( G.nodes() )"
      ],
      "metadata": {
        "colab": {
          "base_uri": "https://localhost:8080/"
        },
        "id": "3cQGWOcQ50RR",
        "outputId": "1a4e7ce5-0874-4a44-e141-136221a4f999"
      },
      "execution_count": null,
      "outputs": [
        {
          "output_type": "stream",
          "name": "stdout",
          "text": [
            "[0, 1, 2, 3, 4, 5, 6, 7, 8, 9]\n"
          ]
        }
      ]
    },
    {
      "cell_type": "code",
      "source": [
        "nx.is_connected(G)      # check whether G which has at least one path between each pair of nodes."
      ],
      "metadata": {
        "colab": {
          "base_uri": "https://localhost:8080/"
        },
        "id": "FCl4Bv5H5_Ss",
        "outputId": "6265f028-2bc4-4c98-9c7f-94858bc39222"
      },
      "execution_count": null,
      "outputs": [
        {
          "output_type": "execute_result",
          "data": {
            "text/plain": [
              "True"
            ]
          },
          "metadata": {},
          "execution_count": 4
        }
      ]
    },
    {
      "cell_type": "code",
      "source": [
        "# needed for R2\n",
        "G.add_edges_from([(0, 3, {'weight': 0.1}), (0, 8,{'weight': 0.8}), (3,8,{'weight': 0.8}), (8,1, {'weight': 1.0}), (8,6, {'weight': 0.7}), (1,6, {'weight': 1.0}),  (1,4, {'weight': 0.6}),  (6,4, {'weight': 0.5}),  (6,7,{'weight': 0.9}), (4,5, {'weight': 0.5}), (4,7, {'weight': 0.4}), (4,9, {'weight': 1.0}),(7,5, {'weight': 0.8}),(7,9, {'weight': 0.4})])"
      ],
      "metadata": {
        "id": "SPdxmLBr6Dru"
      },
      "execution_count": null,
      "outputs": []
    },
    {
      "cell_type": "code",
      "source": [
        "for u, v in G.edges:      # needed for requirement R3.\n",
        "  G.add_edge(u, v, weight=round(random.random(),1))"
      ],
      "metadata": {
        "id": "3IgMwcCPaQD3"
      },
      "execution_count": null,
      "outputs": []
    },
    {
      "cell_type": "code",
      "source": [
        "print(G.edges())"
      ],
      "metadata": {
        "colab": {
          "base_uri": "https://localhost:8080/"
        },
        "id": "ns4KFY60X1Ri",
        "outputId": "ca9fb362-3343-4e4f-cc9c-d7d8a8bf8336"
      },
      "execution_count": null,
      "outputs": [
        {
          "output_type": "stream",
          "name": "stdout",
          "text": [
            "[(0, 3), (0, 8), (1, 4), (1, 6), (1, 8), (2, 8), (3, 8), (4, 5), (4, 6), (4, 7), (4, 9), (5, 7), (6, 7), (6, 8), (7, 9)]\n"
          ]
        }
      ]
    },
    {
      "cell_type": "code",
      "source": [
        "# some properties\n",
        "print(\"node degree and node clustering\")\n",
        "for v in nx.nodes(G):\n",
        "    print(f\"{v} {nx.degree(G, v)} {nx.clustering(G, v)}\")\n",
        "\n",
        "print()\n",
        "print(\"the adjacency list\")\n",
        "for line in nx.generate_adjlist(G):\n",
        "    print(line)\n",
        "\n",
        "links = [(u, v) for (u, v, d) in G.edges(data=True)]\n",
        "pos = nx.nx_pydot.graphviz_layout(G)\n",
        "nx.draw_networkx_nodes(G, pos, node_size=1200, node_color='lightblue', linewidths=0.25) # draw nodes\n",
        "nx.draw_networkx_edges(G, pos, edgelist=links, width=4)                               # draw edges\n",
        "\n",
        "# node labels\n",
        "nx.draw_networkx_labels(G, pos, font_size=20, font_family=\"sans-serif\")\n",
        "# edge weight labels\n",
        "\n",
        "edge_labels = nx.get_edge_attributes(G, \"weight\")\n",
        "print(edge_labels)\n",
        "#print(\"%.2f\" % edge_labels)\n",
        "nx.draw_networkx_edge_labels(G, pos, edge_labels)\n",
        "\n",
        "plt.show()\n"
      ],
      "metadata": {
        "colab": {
          "base_uri": "https://localhost:8080/",
          "height": 930
        },
        "id": "KOViddZp8nOX",
        "outputId": "466f38d8-5314-4522-cd71-99606b9f3b93"
      },
      "execution_count": null,
      "outputs": [
        {
          "output_type": "stream",
          "name": "stdout",
          "text": [
            "node degree and node clustering\n",
            "0 2 1.0\n",
            "1 3 0.6666666666666666\n",
            "2 1 0\n",
            "3 2 1.0\n",
            "4 5 0.4\n",
            "5 2 1.0\n",
            "6 4 0.5\n",
            "7 4 0.5\n",
            "8 5 0.2\n",
            "9 2 1.0\n",
            "\n",
            "the adjacency list\n",
            "0 3 8\n",
            "1 4 6 8\n",
            "2 8\n",
            "3 8\n",
            "4 5 6 7 9\n",
            "5 7\n",
            "6 7 8\n",
            "7 9\n",
            "8\n",
            "9\n"
          ]
        },
        {
          "output_type": "stream",
          "name": "stderr",
          "text": [
            "<ipython-input-8-c118bbf623e2>:12: DeprecationWarning: nx.nx_pydot.graphviz_layout depends on the pydot package, which hasknown issues and is not actively maintained. Consider usingnx.nx_agraph.graphviz_layout instead.\n",
            "\n",
            "See https://github.com/networkx/networkx/issues/5723\n",
            "  pos = nx.nx_pydot.graphviz_layout(G)\n"
          ]
        },
        {
          "output_type": "stream",
          "name": "stdout",
          "text": [
            "{(0, 3): 0.7, (0, 8): 0.1, (1, 4): 0.4, (1, 6): 0.4, (1, 8): 0.6, (2, 8): 0.6, (3, 8): 0.1, (4, 5): 0.3, (4, 6): 0.9, (4, 7): 0.4, (4, 9): 0.7, (5, 7): 0.6, (6, 7): 0.2, (6, 8): 0.8, (7, 9): 0.3}\n"
          ]
        },
        {
          "output_type": "display_data",
          "data": {
            "text/plain": [
              "<Figure size 640x480 with 1 Axes>"
            ],
            "image/png": "[encoded data removed]"
          },
          "metadata": {}
        }
      ]
    },
    {
      "cell_type": "code",
      "source": [
        "# Function to generate requests at each clock tick\n",
        "def generateRequests():\n",
        "    requestList = []\n",
        "    # Likely going to use random.randint(1,10), but for now just create 2 requests per clock tick\n",
        "    for i in range(0, 2):\n",
        "      pickUp = random.randint(0, 9)\n",
        "      dropOff = choice([i for i in range(0,9) if i not in [pickUp]])\n",
        "      requestList.append([pickUp, dropOff])\n",
        "\n",
        "    return requestList"
      ],
      "metadata": {
        "id": "-TdR07uEzQvQ"
      },
      "execution_count": null,
      "outputs": []
    },
    {
      "cell_type": "code",
      "source": [
        "# Function to create routes dictionary\n",
        "def createRoutesObject(vanNum):\n",
        "  routes = {}\n",
        "  for i in range(0, vanNum):\n",
        "    routes['r' + str(i+1)] = [0]\n",
        "  return routes"
      ],
      "metadata": {
        "id": "cddaNaB5zash"
      },
      "execution_count": null,
      "outputs": []
    },
    {
      "cell_type": "code",
      "source": [
        "# Function to create serviceQueues object\n",
        "def createServiceQueuesObject(vanNum):\n",
        "  serviceQueues = {}\n",
        "  for i in range(0, vanNum):\n",
        "    serviceQueues['s' + str(i+1)] = []\n",
        "  return serviceQueues"
      ],
      "metadata": {
        "id": "sQyckt5Jzc3m"
      },
      "execution_count": null,
      "outputs": []
    },
    {
      "cell_type": "code",
      "source": [
        "# Function to create distanceToPickUp object\n",
        "def createDistanceToPickUpObject(vanNum):\n",
        "  distanceToPickUp = {}\n",
        "  for i in range(0, vanNum):\n",
        "    distanceToPickUp['s' + str(i+1)] = 0\n",
        "  return distanceToPickUp"
      ],
      "metadata": {
        "id": "Qm1P5TuHze03"
      },
      "execution_count": null,
      "outputs": []
    },
    {
      "cell_type": "code",
      "source": [
        "def main():\n",
        "    # Variable to store number of vans\n",
        "    numVans = 2\n",
        "\n",
        "    # Dictionary to hold the route list for each van\n",
        "    routes = createRoutesObject(numVans)\n",
        "\n",
        "    # Dictionary to hold the service queue for each van\n",
        "    serviceQueues = createServiceQueuesObject(numVans)\n",
        "\n",
        "    # Dictionary to store distance to pickup point\n",
        "    distanceToPickUp = createDistanceToPickUpObject(numVans)\n",
        "\n",
        "    # Variable to keep track of the customer ID\n",
        "    customerId = 1\n",
        "\n",
        "    # Lists to hold new requests for each van\n",
        "    sNewRequests = {f's{i}': [] for i in range(1, numVans + 1)}\n",
        "\n",
        "    # Variable to store clockTick\n",
        "    clockTick = 1\n",
        "\n",
        "    totalServiced = {\n",
        "        's1': [],\n",
        "        's2': [],\n",
        "    }\n",
        "\n",
        "    # In implementation add, logic to keep loop running until queues are empty\n",
        "    while clockTick < 6 or any(len(serviceQueues[f's{i}']) > 0 for i in range(1, numVans + 1)):\n",
        "        # Generate a random number of new requests on each clock tick\n",
        "        newRequests = generateRequests()\n",
        "\n",
        "        # Variable to store the current node for each van\n",
        "        rCurrentNodes = {f'r{i}': routes[f'r{i}'][-1] for i in range(1, numVans + 1)}\n",
        "\n",
        "        # Loop to handle drop offs\n",
        "        j = 1\n",
        "        for van in rCurrentNodes:\n",
        "          k = 0\n",
        "          currentNode = rCurrentNodes[van]\n",
        "          # print(van, \"current node:\", currentNode)\n",
        "\n",
        "          if len(serviceQueues[f's{j}']) > 0:\n",
        "            while k < len(serviceQueues[f's{j}']) and currentNode == serviceQueues[f's{j}'][k][2][0]:\n",
        "              if len(serviceQueues[f's{j}'][k][2]) == 2 and currentNode == serviceQueues[f's{j}'][k][2][0]:\n",
        "                # print(\"current node:\", currentNode, \"pick up request:\", serviceQueues[f's{j}'][k][2][0])\n",
        "                totalServiced[f's{j}'].append([\"picked up:\", serviceQueues[f's{j}'][k][0], serviceQueues[f's{j}'][k][2][0]])\n",
        "                serviceQueues[f's{j}'][k][2].pop(0)\n",
        "              elif len(serviceQueues[f's{j}'][k][2]) == 1 and currentNode == serviceQueues[f's{j}'][k][2][0]:\n",
        "                totalServiced[f's{j}'].append([\"dropped off:\", serviceQueues[f's{j}'][k][0], serviceQueues[f's{j}'][k][2][0]])\n",
        "                serviceQueues[f's{j}'].pop(0)\n",
        "              k += 1\n",
        "          j+=1\n",
        "\n",
        "        if clockTick < 6:\n",
        "          # On each clock tick, loop through each request in the new requests list\n",
        "          for request in newRequests:\n",
        "              # Variables to store the pickup and drop off nodes\n",
        "              pickUpRequest = request[0]\n",
        "              dropOffRequest = request[1]\n",
        "\n",
        "              # Variable to store the distance from current node to pick up location for each van\n",
        "              distanceToPickUp = {f's{i}': nx.dijkstra_path_length(G, rCurrentNodes[f'r{i}'], pickUpRequest) for i in range(1, numVans + 1)}\n",
        "              # print(\"pick up request:\", pickUpRequest, \"routes:\", routes, \"distance to pickup:\", distanceToPickUp)\n",
        "\n",
        "              # Variable to store the current list of available vans\n",
        "              availableVans = [van_name for van_name, distance in distanceToPickUp.items() if len(serviceQueues[van_name]) < 5]\n",
        "\n",
        "              if availableVans:\n",
        "                  closestVan = min(availableVans, key=lambda van: distanceToPickUp[van])\n",
        "\n",
        "                  # Assign the pickup request to the closest van\n",
        "                  sNewRequests[closestVan].append([\"id\" + str(customerId), 'p', [pickUpRequest, dropOffRequest]])\n",
        "\n",
        "                  # Increment customerId\n",
        "                  customerId += 1\n",
        "                  # break\n",
        "              else:\n",
        "                  print(\"No vans are available, try again in 15 minutes\")\n",
        "\n",
        "        i = 1\n",
        "        for van in sNewRequests:\n",
        "          if len(sNewRequests[van]) > 2:\n",
        "            sNewRequests[van] = sorted(sNewRequests[van], key = lambda x: (len(x[2]) != 1, nx.dijkstra_path_length(G, rCurrentNodes[f'r{i}'], x[2][0])))\n",
        "\n",
        "          serviceQueues[van].extend(sNewRequests[van])\n",
        "          serviceQueues[van] = sorted(serviceQueues[van], key = lambda x: (len(x[2]) != 1, nx.dijkstra_path_length(G, rCurrentNodes[f'r{i}'], x[2][0])))\n",
        "          sNewRequests[van] = []\n",
        "          i += 1\n",
        "\n",
        "        # Append next node to route using get_next_node\n",
        "        for van in range(1, numVans + 1):\n",
        "            if len(serviceQueues[f's{van}']) > 0:\n",
        "              shortestPath = nx.shortest_path(G, routes[f'r{van}'][len(routes[f'r{van}'])-1], serviceQueues[f's{van}'][0][2][0] ,weight='weight',method='dijkstra')\n",
        "              if len(shortestPath) > 1:\n",
        "                routes[f'r{van}'].append(shortestPath[1])\n",
        "                continue\n",
        "            else:\n",
        "              continue\n",
        "\n",
        "        # print(\"new requests:\", newRequests)\n",
        "        # print(\"Service Queues:\",serviceQueues)\n",
        "        # print(\"routes:\", routes)\n",
        "\n",
        "        clockTick += 1\n",
        "    # print(\"New Request list:\", newRequests)\n",
        "    print(\"Service Queues:\", serviceQueues)\n",
        "    print(\"Routes:\", routes)\n",
        "    # print(totalServiced)\n",
        "\n",
        "main()"
      ],
      "metadata": {
        "colab": {
          "base_uri": "https://localhost:8080/"
        },
        "id": "ymeJY6LGziPq",
        "outputId": "802948e7-401c-4307-e36c-6b0a4bca4751"
      },
      "execution_count": null,
      "outputs": [
        {
          "output_type": "stream",
          "name": "stdout",
          "text": [
            "Service Queues: {'s1': [], 's2': []}\n",
            "Routes: {'r1': [0, 8, 1, 8, 0, 8, 1, 4, 7, 6, 1, 6, 7, 5, 7, 9, 7, 5], 'r2': [0, 8, 6, 7, 4, 1, 8, 2, 8, 1, 4, 5, 4, 1, 8]}\n"
          ]
        }
      ]
    },
    {
      "cell_type": "code",
      "source": [
        "  # totalServiced = {\n",
        "    #     's1': [],\n",
        "    #     's2': [],\n",
        "    #     's3': [],\n",
        "    #     's4': [],\n",
        "    #     's5': [],\n",
        "    #     's6': [],\n",
        "    #     's7': [],\n",
        "    #     's8': [],\n",
        "    #     's9': [],\n",
        "    #     's10': [],\n",
        "    #     's11': [],\n",
        "    #     's12': [],\n",
        "    #     's13': [],\n",
        "    #     's14': [],\n",
        "    #     's15': [],\n",
        "    #     's16': [],\n",
        "    #     's17': [],\n",
        "    #     's18': [],\n",
        "    #     's19': [],\n",
        "    #     's20': [],\n",
        "    #     's21': [],\n",
        "    #     's22': [],\n",
        "    #     's23': [],\n",
        "    #     's24': [],\n",
        "    #     's25': [],\n",
        "    #     's26': [],\n",
        "    #     's27': [],\n",
        "    #     's28': [],\n",
        "    #     's29': [],\n",
        "    #     's30': []\n",
        "    # }"
      ],
      "metadata": {
        "id": "cG_aj0Q-l3eW"
      },
      "execution_count": null,
      "outputs": []
    }
  ]
}